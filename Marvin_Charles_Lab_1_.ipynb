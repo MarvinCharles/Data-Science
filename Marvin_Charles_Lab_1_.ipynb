{
  "nbformat": 4,
  "nbformat_minor": 0,
  "metadata": {
    "colab": {
      "provenance": [],
      "collapsed_sections": [],
      "include_colab_link": true
    },
    "kernelspec": {
      "name": "python3",
      "display_name": "Python 3"
    },
    "language_info": {
      "name": "python"
    }
  },
  "cells": [
    {
      "cell_type": "markdown",
      "metadata": {
        "id": "view-in-github",
        "colab_type": "text"
      },
      "source": [
        "<a href=\"https://colab.research.google.com/github/MarvinCharles/Data-Science/blob/main/Marvin_Charles_Lab_1_.ipynb\" target=\"_parent\"><img src=\"https://colab.research.google.com/assets/colab-badge.svg\" alt=\"Open In Colab\"/></a>"
      ]
    },
    {
      "cell_type": "markdown",
      "source": [
        "# Stats Notebook Lab #1"
      ],
      "metadata": {
        "id": "GEwHyK5ve9lG"
      }
    },
    {
      "cell_type": "markdown",
      "source": [
        "## Python Basics"
      ],
      "metadata": {
        "id": "0Lv7wtZ-iTC4"
      }
    },
    {
      "cell_type": "markdown",
      "source": [
        "### Calculator"
      ],
      "metadata": {
        "id": "eFNi_s3RiWwc"
      }
    },
    {
      "cell_type": "code",
      "source": [
        "# Comment lksjadflkasjdlfkjasd;lkfjl;kdsfkjshadfjkhasdkjflhsadkjfhskjdkjvjx "
      ],
      "metadata": {
        "id": "5jk_lQhz0T87"
      },
      "execution_count": null,
      "outputs": []
    },
    {
      "cell_type": "code",
      "source": [
        "30.34321 + 9.12313 - 3.5567.  #Just mkaing it do basic math. Using it as a calculator"
      ],
      "metadata": {
        "colab": {
          "base_uri": "https://localhost:8080/",
          "height": 135
        },
        "id": "Sk8TLU3biY0J",
        "outputId": "eafdde1f-6b17-44f2-dd9d-99d512c52fb4"
      },
      "execution_count": null,
      "outputs": [
        {
          "output_type": "error",
          "ename": "SyntaxError",
          "evalue": "ignored",
          "traceback": [
            "\u001b[0;36m  File \u001b[0;32m\"<ipython-input-2-a93a3ed58a05>\"\u001b[0;36m, line \u001b[0;32m1\u001b[0m\n\u001b[0;31m    30.34321 + 9.12313 - 3.5567.  #Just mkaing it do basic math. Using it as a calculator\u001b[0m\n\u001b[0m                                                                                         ^\u001b[0m\n\u001b[0;31mSyntaxError\u001b[0m\u001b[0;31m:\u001b[0m invalid syntax\n"
          ]
        }
      ]
    },
    {
      "cell_type": "code",
      "source": [
        "2*2"
      ],
      "metadata": {
        "id": "R-u5seQsh_RF"
      },
      "execution_count": null,
      "outputs": []
    },
    {
      "cell_type": "code",
      "source": [
        "2**8"
      ],
      "metadata": {
        "id": "OhzaZtPch_Yb"
      },
      "execution_count": null,
      "outputs": []
    },
    {
      "cell_type": "code",
      "source": [
        "2**123"
      ],
      "metadata": {
        "id": "yt6iRMB8h_a2"
      },
      "execution_count": null,
      "outputs": []
    },
    {
      "cell_type": "code",
      "source": [
        "2**12345"
      ],
      "metadata": {
        "id": "Ej6lPOmHh_dh"
      },
      "execution_count": null,
      "outputs": []
    },
    {
      "cell_type": "code",
      "source": [
        "123**45678"
      ],
      "metadata": {
        "id": "vD9XKYouh_gK"
      },
      "execution_count": null,
      "outputs": []
    },
    {
      "cell_type": "code",
      "source": [
        "8/4"
      ],
      "metadata": {
        "id": "HWnnfszJzi1N"
      },
      "execution_count": null,
      "outputs": []
    },
    {
      "cell_type": "code",
      "source": [
        "8//4"
      ],
      "metadata": {
        "id": "NzDS65ewzkDe"
      },
      "execution_count": null,
      "outputs": []
    },
    {
      "cell_type": "code",
      "source": [
        "8%12"
      ],
      "metadata": {
        "id": "MwcyFBu4zlgE"
      },
      "execution_count": null,
      "outputs": []
    },
    {
      "cell_type": "code",
      "source": [
        "13%12"
      ],
      "metadata": {
        "id": "KGMyjnL_zm-8"
      },
      "execution_count": null,
      "outputs": []
    },
    {
      "cell_type": "code",
      "source": [
        "22%12"
      ],
      "metadata": {
        "id": "YSUzBZWEzrvu"
      },
      "execution_count": null,
      "outputs": []
    },
    {
      "cell_type": "code",
      "source": [
        "24%12"
      ],
      "metadata": {
        "id": "abx0hn9jz-pB"
      },
      "execution_count": null,
      "outputs": []
    },
    {
      "cell_type": "markdown",
      "source": [
        "### Variables"
      ],
      "metadata": {
        "id": "C8SDfhEloyKH"
      }
    },
    {
      "cell_type": "code",
      "source": [
        "apples = 5 #Made a variable in this case it was apple and oranges and gave them each a value."
      ],
      "metadata": {
        "id": "LMw0vkqhh_iu"
      },
      "execution_count": null,
      "outputs": []
    },
    {
      "cell_type": "code",
      "source": [
        "oranges = 8"
      ],
      "metadata": {
        "id": "RWMUvAJhh_lA"
      },
      "execution_count": null,
      "outputs": []
    },
    {
      "cell_type": "code",
      "source": [
        "total = apples + oranges #Since they now have a value you can add them up as you would add up normal numbers"
      ],
      "metadata": {
        "id": "JFF0Q3Bhh_na"
      },
      "execution_count": null,
      "outputs": []
    },
    {
      "cell_type": "code",
      "source": [
        "total"
      ],
      "metadata": {
        "id": "fDX5SYA8h_qC"
      },
      "execution_count": null,
      "outputs": []
    },
    {
      "cell_type": "code",
      "source": [
        "apples**2 #We just squared the value of the apple so 5 squared."
      ],
      "metadata": {
        "id": "v3LbjRnEh_sU"
      },
      "execution_count": null,
      "outputs": []
    },
    {
      "cell_type": "code",
      "source": [
        "cost_per_apple = 0.25 #Names a new value called cost per apple to find what the value of a single apple since there are 5 apples"
      ],
      "metadata": {
        "id": "PyMaiewtiRRu"
      },
      "execution_count": null,
      "outputs": []
    },
    {
      "cell_type": "code",
      "source": [
        "total_apple_costs = cost_per_apple * apples"
      ],
      "metadata": {
        "id": "ssPAIuNCiRT6"
      },
      "execution_count": null,
      "outputs": []
    },
    {
      "cell_type": "code",
      "source": [
        "total_apple_costs"
      ],
      "metadata": {
        "id": "NRZizjgRiRWB"
      },
      "execution_count": null,
      "outputs": []
    },
    {
      "cell_type": "markdown",
      "source": [
        "### Vectors"
      ],
      "metadata": {
        "id": "NrZeHmA2pF7-"
      }
    },
    {
      "cell_type": "code",
      "source": [
        "import numpy as np\n",
        "import matplotlib.pyplot as plt"
      ],
      "metadata": {
        "id": "8IZ5UUuriRcT"
      },
      "execution_count": null,
      "outputs": []
    },
    {
      "cell_type": "code",
      "source": [
        "np.arange(10) #it arranged ten numbers in order, Python starts counting from zero so you won't see the number 10"
      ],
      "metadata": {
        "colab": {
          "base_uri": "https://localhost:8080/"
        },
        "id": "eVVE2-PXiRe2",
        "outputId": "5b06bea2-a803-4ba3-acc2-b29b73ad0b24"
      },
      "execution_count": null,
      "outputs": [
        {
          "output_type": "execute_result",
          "data": {
            "text/plain": [
              "array([0, 1, 2, 3, 4, 5, 6, 7, 8, 9])"
            ]
          },
          "metadata": {},
          "execution_count": 5
        }
      ]
    },
    {
      "cell_type": "code",
      "source": [
        "x = np.arange(10)"
      ],
      "metadata": {
        "id": "lxDda9rPiRgr"
      },
      "execution_count": null,
      "outputs": []
    },
    {
      "cell_type": "code",
      "source": [
        "x # x is now the value to arrange those 10 numbers so if e type in x it gives that orignal array of numbers"
      ],
      "metadata": {
        "colab": {
          "base_uri": "https://localhost:8080/"
        },
        "id": "WLNa80A1iRiv",
        "outputId": "6677de1c-92ed-4396-85d5-c21281f0672b"
      },
      "execution_count": null,
      "outputs": [
        {
          "output_type": "execute_result",
          "data": {
            "text/plain": [
              "array([0, 1, 2, 3, 4, 5, 6, 7, 8, 9])"
            ]
          },
          "metadata": {},
          "execution_count": 7
        }
      ]
    },
    {
      "cell_type": "code",
      "source": [
        "y = 3 * x + 5"
      ],
      "metadata": {
        "id": "wvBymvO6iRk9"
      },
      "execution_count": null,
      "outputs": []
    },
    {
      "cell_type": "code",
      "source": [
        "y"
      ],
      "metadata": {
        "colab": {
          "base_uri": "https://localhost:8080/"
        },
        "id": "R0caJJvuiRnD",
        "outputId": "cfc79aee-7a23-4da0-e088-e3e866fc8c7c"
      },
      "execution_count": null,
      "outputs": [
        {
          "output_type": "execute_result",
          "data": {
            "text/plain": [
              "array([ 5,  8, 11, 14, 17, 20, 23, 26, 29, 32])"
            ]
          },
          "metadata": {},
          "execution_count": 9
        }
      ]
    },
    {
      "cell_type": "code",
      "source": [
        "x = np.array([1,2,3,4,5,6])\n",
        "y = np.array([11,22,33,44,55,66])"
      ],
      "metadata": {
        "id": "BfLYoPWpvAft"
      },
      "execution_count": null,
      "outputs": []
    },
    {
      "cell_type": "code",
      "source": [
        "plt.plot(x,y) #we just plotted those values"
      ],
      "metadata": {
        "colab": {
          "base_uri": "https://localhost:8080/",
          "height": 283
        },
        "id": "lv2MktRkvAru",
        "outputId": "38ee2f49-a428-4e25-89c0-984d9b603e28"
      },
      "execution_count": null,
      "outputs": [
        {
          "output_type": "execute_result",
          "data": {
            "text/plain": [
              "[<matplotlib.lines.Line2D at 0x7f5ea5dba110>]"
            ]
          },
          "metadata": {},
          "execution_count": 11
        },
        {
          "output_type": "display_data",
          "data": {
            "text/plain": [
              "<Figure size 432x288 with 1 Axes>"
            ],
            "image/png": "[encoded data removed]"
          },
          "metadata": {
            "needs_background": "light"
          }
        }
      ]
    },
    {
      "cell_type": "code",
      "source": [
        "plt.plot(x,y,'.')"
      ],
      "metadata": {
        "colab": {
          "base_uri": "https://localhost:8080/",
          "height": 283
        },
        "id": "q_SC501IvNyQ",
        "outputId": "9a209bf7-d06f-4587-d1b3-8a70368e66cc"
      },
      "execution_count": null,
      "outputs": [
        {
          "output_type": "execute_result",
          "data": {
            "text/plain": [
              "[<matplotlib.lines.Line2D at 0x7f5ea5909990>]"
            ]
          },
          "metadata": {},
          "execution_count": 12
        },
        {
          "output_type": "display_data",
          "data": {
            "text/plain": [
              "<Figure size 432x288 with 1 Axes>"
            ],
            "image/png": "[encoded data removed]"
          },
          "metadata": {
            "needs_background": "light"
          }
        }
      ]
    },
    {
      "cell_type": "code",
      "source": [
        "plt.plot(x,y,'r.')"
      ],
      "metadata": {
        "colab": {
          "base_uri": "https://localhost:8080/",
          "height": 283
        },
        "id": "Mp3pHMdSvPcQ",
        "outputId": "3c45263a-b799-415a-fa9a-44baf150ed49"
      },
      "execution_count": null,
      "outputs": [
        {
          "output_type": "execute_result",
          "data": {
            "text/plain": [
              "[<matplotlib.lines.Line2D at 0x7f5ea587fa90>]"
            ]
          },
          "metadata": {},
          "execution_count": 13
        },
        {
          "output_type": "display_data",
          "data": {
            "text/plain": [
              "<Figure size 432x288 with 1 Axes>"
            ],
            "image/png": "[encoded data removed]"
          },
          "metadata": {
            "needs_background": "light"
          }
        }
      ]
    },
    {
      "cell_type": "code",
      "source": [
        "plt.plot(x,y,'b--') # made the graph look different The first value after the ' is the color and the value after the - is the shape you want your things to look like"
      ],
      "metadata": {
        "colab": {
          "base_uri": "https://localhost:8080/",
          "height": 283
        },
        "id": "2_sDDZyhvREK",
        "outputId": "3d8453d9-cd05-4442-d776-a4bb6463b6bd"
      },
      "execution_count": null,
      "outputs": [
        {
          "output_type": "execute_result",
          "data": {
            "text/plain": [
              "[<matplotlib.lines.Line2D at 0x7f5ea57f14d0>]"
            ]
          },
          "metadata": {},
          "execution_count": 14
        },
        {
          "output_type": "display_data",
          "data": {
            "text/plain": [
              "<Figure size 432x288 with 1 Axes>"
            ],
            "image/png": "[encoded data removed]"
          },
          "metadata": {
            "needs_background": "light"
          }
        }
      ]
    },
    {
      "cell_type": "markdown",
      "source": [
        "### Plotting"
      ],
      "metadata": {
        "id": "SSehamg7pVQ-"
      }
    },
    {
      "cell_type": "code",
      "source": [
        "import matplotlib.pyplot as plt"
      ],
      "metadata": {
        "id": "5xxvUltOiRrY"
      },
      "execution_count": null,
      "outputs": []
    },
    {
      "cell_type": "code",
      "source": [
        "plt.plot(x,y)"
      ],
      "metadata": {
        "id": "7GqRu33ziRx6"
      },
      "execution_count": null,
      "outputs": []
    },
    {
      "cell_type": "code",
      "source": [
        "x = np.linspace(0,10,100) #Starts at 0 ends at 10 and has 100 jumps along the way"
      ],
      "metadata": {
        "id": "W9d-C2GkpavQ"
      },
      "execution_count": null,
      "outputs": []
    },
    {
      "cell_type": "code",
      "source": [
        "x"
      ],
      "metadata": {
        "id": "xm4FuiXapaxM"
      },
      "execution_count": null,
      "outputs": []
    },
    {
      "cell_type": "code",
      "source": [
        "y = x**2"
      ],
      "metadata": {
        "id": "EFVXNTBlpazx"
      },
      "execution_count": null,
      "outputs": []
    },
    {
      "cell_type": "code",
      "source": [
        "plt.plot(x,y)"
      ],
      "metadata": {
        "id": "zeDSPzcypa3l"
      },
      "execution_count": null,
      "outputs": []
    },
    {
      "cell_type": "code",
      "source": [
        "plt.plot(x,y)\n",
        "plt.title(\"Graph of x**2\");\n",
        "plt.xlabel(\"x\");\n",
        "plt.ylabel(\"y\");"
      ],
      "metadata": {
        "id": "Ya-NbJXBpa79"
      },
      "execution_count": null,
      "outputs": []
    },
    {
      "cell_type": "code",
      "source": [
        "plt.plot(x,y,label=\"x squared\")\n",
        "plt.title(\"Graph of x**2\");\n",
        "plt.xlabel(\"x\");\n",
        "plt.ylabel(\"y\");\n",
        "plt.legend()"
      ],
      "metadata": {
        "id": "XaKFm2-1iR0D"
      },
      "execution_count": null,
      "outputs": []
    },
    {
      "cell_type": "code",
      "source": [
        "x = np.linspace(0, 2, 100)\n",
        "\n",
        "plt.plot(x, x, label='linear')\n",
        "plt.plot(x, x**2, label='quadratic')\n",
        "plt.plot(x, x**8, label='cubic')\n",
        "\n",
        "plt.xlabel('x label')\n",
        "plt.ylabel('y label')\n",
        "\n",
        "plt.title(\"Simple Plot\")\n",
        "\n",
        "plt.legend()"
      ],
      "metadata": {
        "id": "QySsAtYkCZ-M"
      },
      "execution_count": null,
      "outputs": []
    },
    {
      "cell_type": "code",
      "source": [
        "t = np.arange(0., 5., 0.2)\n",
        "plt.plot(t, t, 'r--', t, t**2, 'bs', t, t**3, 'g^');"
      ],
      "metadata": {
        "id": "7-YoTQk7Dt59"
      },
      "execution_count": null,
      "outputs": []
    },
    {
      "cell_type": "code",
      "source": [
        "names = ['cat', 'dog', 'bird']\n",
        "values = [15, 18, 6]\n",
        "\n",
        "plt.figure(1, figsize=(9, 3))\n",
        "\n",
        "\n",
        "plt.subplot(131) #The 1,3 means 1 row and 3 columns. The last one means the one you are currenty upadting.\n",
        "plt.bar(names, values)\n",
        "\n",
        "plt.subplot(132)\n",
        "plt.scatter(names, values)\n",
        "\n",
        "plt.subplot(133)\n",
        "plt.plot(names, values)\n",
        "\n",
        "\n",
        "plt.suptitle('Categorical Plotting')\n",
        "plt.show()"
      ],
      "metadata": {
        "id": "92EQ1jefDdry"
      },
      "execution_count": null,
      "outputs": []
    },
    {
      "cell_type": "code",
      "source": [],
      "metadata": {
        "id": "lZ0IN4GbZ00E"
      },
      "execution_count": null,
      "outputs": []
    },
    {
      "cell_type": "markdown",
      "source": [
        "https://matplotlib.org/stable/gallery/index.html"
      ],
      "metadata": {
        "id": "Qw-f30L0J0zq"
      }
    },
    {
      "cell_type": "code",
      "source": [],
      "metadata": {
        "id": "CLy1FrpbZ08j"
      },
      "execution_count": null,
      "outputs": []
    },
    {
      "cell_type": "code",
      "source": [
        "import numpy as np\n",
        "import matplotlib.pyplot as plt\n",
        "t = np.arange(0.0, 2.0, 0.01)\n",
        "s = np.sin(2*np.pi*t)\n",
        "\n",
        "plt.plot(t, s)\n",
        "plt.title(r'$\\alpha_i > \\beta_i$', fontsize=20)\n",
        "plt.text(1, -0.6, r'$\\sum_{i=0}^\\infty x_i$', fontsize=20)\n",
        "plt.text(0.5, 0.6, r'$\\mathcal{A}\\mathrm{sin}(2 \\omega t)$',fontsize=15)\n",
        "plt.xlabel('time (s)')\n",
        "plt.ylabel('volts (mV)')\n",
        "plt.show()"
      ],
      "metadata": {
        "id": "3edUlLuArUoo"
      },
      "execution_count": null,
      "outputs": []
    },
    {
      "cell_type": "code",
      "source": [],
      "metadata": {
        "id": "eezkpjYIX1Ir"
      },
      "execution_count": null,
      "outputs": []
    },
    {
      "cell_type": "markdown",
      "source": [
        "# Exercises"
      ],
      "metadata": {
        "id": "WFza0lH8GOjw"
      }
    },
    {
      "cell_type": "markdown",
      "source": [
        "Plot the following functions from $x = -10$ to $x = 10$ \n",
        "\n",
        "(Hint: np.sin, np.exp)"
      ],
      "metadata": {
        "id": "aBIah-uiGUXZ"
      }
    },
    {
      "cell_type": "markdown",
      "source": [
        "$y = 10x+7$\n",
        "\n",
        "$y = -3x-12$\n",
        "\n",
        "$y=\\sin(x)$\n",
        "\n",
        "$y=e^x$\n",
        "\n",
        "$y=e^{-x^2}$"
      ],
      "metadata": {
        "id": "5HATIyQyGfEj"
      }
    },
    {
      "cell_type": "markdown",
      "source": [
        "Pick out a plot of your choice from [here](https://matplotlib.org/stable/gallery/index.html), copy the code to this notebook, run, and document to the best of your abilities. "
      ],
      "metadata": {
        "id": "t0g5nhtbHfta"
      }
    },
    {
      "cell_type": "code",
      "source": [
        "import numpy as np\n",
        "import matplotlib.pyplot as plt\n",
        "x = np.arange(-10, 10)\n",
        "y = 10*x + 7\n",
        "\n",
        "plt.plot(x, y)\n",
        "plt.title(r'$y = 10x+7$', fontsize=20)\n",
        "\n",
        "plt.show()"
      ],
      "metadata": {
        "id": "fq9Jqakt13M4",
        "colab": {
          "base_uri": "https://localhost:8080/",
          "height": 287
        },
        "outputId": "43fc6ad8-4510-4b4f-c12a-00e1423b2708"
      },
      "execution_count": null,
      "outputs": [
        {
          "output_type": "display_data",
          "data": {
            "text/plain": [
              "<Figure size 432x288 with 1 Axes>"
            ],
            "image/png": "[encoded data removed]"
          },
          "metadata": {
            "needs_background": "light"
          }
        }
      ]
    },
    {
      "cell_type": "code",
      "source": [
        "import numpy as np\n",
        "import matplotlib.pyplot as plt\n",
        "x = np.arange(-10, 10)\n",
        "y = -3*x-12\n",
        "\n",
        "plt.plot(x, y)\n",
        "plt.title(r'$y = -3x-12', fontsize=20)\n",
        "\n",
        "plt.show()"
      ],
      "metadata": {
        "colab": {
          "base_uri": "https://localhost:8080/",
          "height": 286
        },
        "id": "WB8FDoecaqJU",
        "outputId": "3c2978b3-4b48-41f0-bfa6-4657babb58e4"
      },
      "execution_count": 5,
      "outputs": [
        {
          "output_type": "display_data",
          "data": {
            "text/plain": [
              "<Figure size 432x288 with 1 Axes>"
            ],
            "image/png": "[encoded data removed]"
          },
          "metadata": {
            "needs_background": "light"
          }
        }
      ]
    },
    {
      "cell_type": "code",
      "source": [
        "import numpy as np\n",
        "import matplotlib.pyplot as plt\n",
        "x = np.arange(-10, 10)\n",
        "y = np.sin(x)\n",
        "\n",
        "plt.plot(x, y)\n",
        "plt.title(r'$y = /sin(x)$', fontsize=20)\n",
        "\n",
        "plt.show()"
      ],
      "metadata": {
        "colab": {
          "base_uri": "https://localhost:8080/",
          "height": 288
        },
        "id": "LyrDwVneaqDO",
        "outputId": "2dfccea5-5234-48a1-8122-1f0a4b3b7665"
      },
      "execution_count": 6,
      "outputs": [
        {
          "output_type": "display_data",
          "data": {
            "text/plain": [
              "<Figure size 432x288 with 1 Axes>"
            ],
            "image/png": "[encoded data removed]"
          },
          "metadata": {
            "needs_background": "light"
          }
        }
      ]
    },
    {
      "cell_type": "code",
      "source": [
        "import numpy as np\n",
        "import matplotlib.pyplot as plt\n",
        "x = np.arange(-10, 10)\n",
        "y = np.exp(x)\n",
        "\n",
        "plt.plot(x, y)\n",
        "plt.title(r'$y = e^x$', fontsize=20)\n",
        "\n",
        "plt.show()"
      ],
      "metadata": {
        "colab": {
          "base_uri": "https://localhost:8080/",
          "height": 289
        },
        "id": "GeBag4Fkap24",
        "outputId": "0011e002-f855-4272-ae0a-3c5285b03908"
      },
      "execution_count": 7,
      "outputs": [
        {
          "output_type": "display_data",
          "data": {
            "text/plain": [
              "<Figure size 432x288 with 1 Axes>"
            ],
            "image/png": "[encoded data removed]"
          },
          "metadata": {
            "needs_background": "light"
          }
        }
      ]
    },
    {
      "cell_type": "code",
      "source": [
        "import numpy as np\n",
        "import matplotlib.pyplot as plt\n",
        "x = np.arange(-10, 10)\n",
        "y = np.exp(-x**2)\n",
        "\n",
        "plt.plot(x, y)\n",
        "plt.title(r'$y = e^(-x^2)$', fontsize=20)\n",
        "\n",
        "plt.show()"
      ],
      "metadata": {
        "colab": {
          "base_uri": "https://localhost:8080/",
          "height": 293
        },
        "id": "Elaj8uT8aplD",
        "outputId": "1f20c705-428b-46be-f19f-b817d8b1d2f1"
      },
      "execution_count": 8,
      "outputs": [
        {
          "output_type": "display_data",
          "data": {
            "text/plain": [
              "<Figure size 432x288 with 1 Axes>"
            ],
            "image/png": "[encoded data removed]"
          },
          "metadata": {
            "needs_background": "light"
          }
        }
      ]
    },
    {
      "cell_type": "code",
      "source": [],
      "metadata": {
        "id": "KwTDcwnObXXg"
      },
      "execution_count": null,
      "outputs": []
    },
    {
      "cell_type": "code",
      "source": [],
      "metadata": {
        "id": "hYbW9yTib0ba"
      },
      "execution_count": null,
      "outputs": []
    },
    {
      "cell_type": "code",
      "source": [
        "import matplotlib.pyplot as plt\n",
        "\n",
        "\n",
        "labels = ['G1', 'G2', 'G3', 'G4', 'G5'] #The x values that will be plotted\n",
        "men_means = [20, 35, 30, 35, 27]\n",
        "women_means = [25, 32, 34, 20, 25]\n",
        "men_std = [2, 3, 4, 1, 2]\n",
        "women_std = [3, 5, 2, 3, 3]\n",
        "width = 0.35       # the width of the bars: can also be len(x) sequence\n",
        "\n",
        "fig, ax = plt.subplots()\n",
        "\n",
        "ax.bar(labels, men_means, width, yerr=men_std, label='Men')\n",
        "ax.bar(labels, women_means, width, yerr=women_std, bottom=men_means,\n",
        "       label='Women')\n",
        "\n",
        "ax.set_ylabel('Scores')\n",
        "ax.set_title('Scores by group and gender')\n",
        "ax.legend()\n",
        "\n",
        "plt.show()"
      ],
      "metadata": {
        "id": "jiYuQxe_39ct",
        "colab": {
          "base_uri": "https://localhost:8080/",
          "height": 281
        },
        "outputId": "5558e435-4af5-447a-802b-3d86ddc2f4ea"
      },
      "execution_count": null,
      "outputs": [
        {
          "output_type": "display_data",
          "data": {
            "text/plain": [
              "<Figure size 432x288 with 1 Axes>"
            ],
            "image/png": "[encoded data removed]"
          },
          "metadata": {
            "needs_background": "light"
          }
        }
      ]
    },
    {
      "cell_type": "code",
      "source": [],
      "metadata": {
        "id": "LMm-IsKtzpSm"
      },
      "execution_count": null,
      "outputs": []
    }
  ]
}