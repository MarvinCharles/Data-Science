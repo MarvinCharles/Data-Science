{
  "nbformat": 4,
  "nbformat_minor": 0,
  "metadata": {
    "colab": {
      "provenance": [],
      "authorship_tag": "ABX9TyNy7y93SB02Lj3pLQTovZBB",
      "include_colab_link": true
    },
    "kernelspec": {
      "name": "python3",
      "display_name": "Python 3"
    },
    "language_info": {
      "name": "python"
    }
  },
  "cells": [
    {
      "cell_type": "markdown",
      "metadata": {
        "id": "view-in-github",
        "colab_type": "text"
      },
      "source": [
        "<a href=\"https://colab.research.google.com/github/MarvinCharles/Data-Science/blob/main/Marvin_Charles_Midterm_Part_3_REAL_ONE.ipynb\" target=\"_parent\"><img src=\"https://colab.research.google.com/assets/colab-badge.svg\" alt=\"Open In Colab\"/></a>"
      ]
    },
    {
      "cell_type": "code",
      "execution_count": null,
      "metadata": {
        "id": "yCrgRELtQ1AA"
      },
      "outputs": [],
      "source": [
        "import numpy as np\n",
        "import matplotlib.pyplot as plt"
      ]
    },
    {
      "cell_type": "code",
      "source": [
        "X = np.array([12,9,20,7,2])    #The diameter numbers, they are measurments\n",
        "Y = np.array([38,28,63,22,6]) #The Circumfrance "
      ],
      "metadata": {
        "id": "gMGolBX6ROMT"
      },
      "execution_count": null,
      "outputs": []
    },
    {
      "cell_type": "code",
      "source": [
        "plt.plot(X,Y,'g.')  #This is to plot those points"
      ],
      "metadata": {
        "colab": {
          "base_uri": "https://localhost:8080/",
          "height": 282
        },
        "id": "T7PTxAKkRgwc",
        "outputId": "8539f403-a4ee-48e7-a1fc-5df4a29f77a7"
      },
      "execution_count": null,
      "outputs": [
        {
          "output_type": "execute_result",
          "data": {
            "text/plain": [
              "[<matplotlib.lines.Line2D at 0x7f6488163cd0>]"
            ]
          },
          "metadata": {},
          "execution_count": 7
        },
        {
          "output_type": "display_data",
          "data": {
            "text/plain": [
              "<Figure size 432x288 with 1 Axes>"
            ],
            "image/png": "[encoded data removed]"
          },
          "metadata": {
            "needs_background": "light"
          }
        }
      ]
    },
    {
      "cell_type": "code",
      "source": [
        "m_guess = 0 #guess for m and b\n",
        "b_guess = 0 "
      ],
      "metadata": {
        "id": "HhBRT9C4SBCD"
      },
      "execution_count": null,
      "outputs": []
    },
    {
      "cell_type": "code",
      "source": [
        "m_guess * X + b_guess #This is our model. It gave five zeros beucase we have five values in x array"
      ],
      "metadata": {
        "colab": {
          "base_uri": "https://localhost:8080/"
        },
        "id": "iO8OeNoFSJYa",
        "outputId": "30b92dcb-e6a8-4018-c31d-8e709bf50b4e"
      },
      "execution_count": null,
      "outputs": [
        {
          "output_type": "execute_result",
          "data": {
            "text/plain": [
              "array([0, 0, 0, 0, 0])"
            ]
          },
          "metadata": {},
          "execution_count": 9
        }
      ]
    },
    {
      "cell_type": "code",
      "source": [
        "y_guess = m_guess * X + b_guess"
      ],
      "metadata": {
        "id": "5WuJ6NuHSQez"
      },
      "execution_count": null,
      "outputs": []
    },
    {
      "cell_type": "code",
      "source": [
        "y_guess - Y  #subtract guess from actual data. Seeing how well the model fits the data"
      ],
      "metadata": {
        "colab": {
          "base_uri": "https://localhost:8080/"
        },
        "id": "GGBc1s9DTToL",
        "outputId": "57fbb584-12da-46d6-e36f-71e64cb1e3ae"
      },
      "execution_count": null,
      "outputs": [
        {
          "output_type": "execute_result",
          "data": {
            "text/plain": [
              "array([-38, -28, -63, -22,  -6])"
            ]
          },
          "metadata": {},
          "execution_count": 14
        }
      ]
    },
    {
      "cell_type": "code",
      "source": [
        "(y_guess - Y)**2 #turns negative numbers into postive ones so negatives don't cancel. The square gets rid of minus signs"
      ],
      "metadata": {
        "colab": {
          "base_uri": "https://localhost:8080/"
        },
        "id": "OthAd-9oTpuT",
        "outputId": "afb35be0-53a1-4931-fb77-f22944e87020"
      },
      "execution_count": null,
      "outputs": [
        {
          "output_type": "execute_result",
          "data": {
            "text/plain": [
              "array([1444,  784, 3969,  484,   36])"
            ]
          },
          "metadata": {},
          "execution_count": 15
        }
      ]
    },
    {
      "cell_type": "code",
      "source": [
        "np.sum((y_guess - Y)**2)  #Adds them all up"
      ],
      "metadata": {
        "colab": {
          "base_uri": "https://localhost:8080/"
        },
        "id": "Y_Ttgj_AUoqs",
        "outputId": "261f6d43-23d2-4bad-d241-ab0b13344151"
      },
      "execution_count": null,
      "outputs": [
        {
          "output_type": "execute_result",
          "data": {
            "text/plain": [
              "6717"
            ]
          },
          "metadata": {},
          "execution_count": 17
        }
      ]
    },
    {
      "cell_type": "code",
      "source": [
        "loss = np.sum((y_guess - Y)**2)"
      ],
      "metadata": {
        "id": "YCa4Uu3hWM58"
      },
      "execution_count": null,
      "outputs": []
    },
    {
      "cell_type": "code",
      "source": [
        "for m_guess in np.linspace(-100,100,100): # m is not less than -100 and not greater than 100\n",
        "    print(m_guess)  #prtining out all possible guesses for m"
      ],
      "metadata": {
        "colab": {
          "base_uri": "https://localhost:8080/"
        },
        "id": "LSqVpf-AWRoc",
        "outputId": "3798ed07-514b-489c-c772-2f64adca2847"
      },
      "execution_count": null,
      "outputs": [
        {
          "output_type": "stream",
          "name": "stdout",
          "text": [
            "-100.0\n",
            "-97.97979797979798\n",
            "-95.95959595959596\n",
            "-93.93939393939394\n",
            "-91.91919191919192\n",
            "-89.8989898989899\n",
            "-87.87878787878788\n",
            "-85.85858585858585\n",
            "-83.83838383838383\n",
            "-81.81818181818181\n",
            "-79.79797979797979\n",
            "-77.77777777777777\n",
            "-75.75757575757575\n",
            "-73.73737373737373\n",
            "-71.71717171717171\n",
            "-69.69696969696969\n",
            "-67.67676767676767\n",
            "-65.65656565656565\n",
            "-63.63636363636363\n",
            "-61.61616161616161\n",
            "-59.59595959595959\n",
            "-57.57575757575757\n",
            "-55.55555555555555\n",
            "-53.53535353535353\n",
            "-51.515151515151516\n",
            "-49.494949494949495\n",
            "-47.474747474747474\n",
            "-45.45454545454545\n",
            "-43.43434343434343\n",
            "-41.41414141414141\n",
            "-39.39393939393939\n",
            "-37.37373737373737\n",
            "-35.35353535353535\n",
            "-33.33333333333333\n",
            "-31.313131313131308\n",
            "-29.292929292929287\n",
            "-27.272727272727266\n",
            "-25.252525252525245\n",
            "-23.232323232323225\n",
            "-21.212121212121204\n",
            "-19.191919191919183\n",
            "-17.171717171717162\n",
            "-15.151515151515142\n",
            "-13.13131313131312\n",
            "-11.1111111111111\n",
            "-9.09090909090908\n",
            "-7.0707070707070585\n",
            "-5.050505050505038\n",
            "-3.030303030303031\n",
            "-1.0101010101010104\n",
            "1.0101010101010104\n",
            "3.030303030303031\n",
            "5.050505050505052\n",
            "7.070707070707073\n",
            "9.090909090909093\n",
            "11.111111111111114\n",
            "13.131313131313135\n",
            "15.151515151515156\n",
            "17.171717171717177\n",
            "19.191919191919197\n",
            "21.212121212121218\n",
            "23.23232323232324\n",
            "25.25252525252526\n",
            "27.27272727272728\n",
            "29.2929292929293\n",
            "31.313131313131322\n",
            "33.33333333333334\n",
            "35.353535353535364\n",
            "37.373737373737384\n",
            "39.393939393939405\n",
            "41.414141414141426\n",
            "43.43434343434345\n",
            "45.45454545454547\n",
            "47.47474747474749\n",
            "49.49494949494951\n",
            "51.51515151515153\n",
            "53.53535353535355\n",
            "55.55555555555557\n",
            "57.57575757575759\n",
            "59.59595959595961\n",
            "61.616161616161634\n",
            "63.636363636363654\n",
            "65.65656565656568\n",
            "67.6767676767677\n",
            "69.69696969696972\n",
            "71.71717171717174\n",
            "73.73737373737376\n",
            "75.75757575757578\n",
            "77.7777777777778\n",
            "79.79797979797982\n",
            "81.81818181818184\n",
            "83.83838383838386\n",
            "85.85858585858588\n",
            "87.8787878787879\n",
            "89.89898989898992\n",
            "91.91919191919195\n",
            "93.93939393939394\n",
            "95.95959595959596\n",
            "97.97979797979798\n",
            "100.0\n"
          ]
        }
      ]
    },
    {
      "cell_type": "code",
      "source": [
        "best_loss_so_far = 10000000000\n",
        "m_best = 0  \n",
        "b_best = 0  #placeholder for what we have as the best so far\n",
        "\n",
        "for m_guess in np.linspace(-100,100,100):\n",
        "    for b_guess in np.linspace(-100,100,100):  #search through all values of m and b\n",
        "       \n",
        "        y_guess = m_guess * X + b_guess  #its called linear regression\n",
        "\n",
        "        loss = np.sum((y_guess - Y)**2) #calculate the new loss\n",
        "\n",
        "    \n",
        "        if loss < best_loss_so_far:\n",
        "          m_best = m_guess \n",
        "          b_best = b_guess\n",
        "          best_loss_so_far = loss #upadte best loss to keep track that we found a better one\n",
        "\n",
        "\n",
        "print(\"Found better fit:\")\n",
        "print(m_best,b_best,loss) #then its going to print current best for m and b and what the loss is\n",
        "           "
      ],
      "metadata": {
        "colab": {
          "base_uri": "https://localhost:8080/"
        },
        "id": "O6CF08z1XCqs",
        "outputId": "4adc7f2d-3201-4e72-dd35-0d20bc534ced"
      },
      "execution_count": null,
      "outputs": [
        {
          "output_type": "stream",
          "name": "stdout",
          "text": [
            "Found better fit:\n",
            "3.030303030303031 1.0101010101010104 7378517.0\n"
          ]
        }
      ]
    },
    {
      "cell_type": "markdown",
      "source": [
        "Questions"
      ],
      "metadata": {
        "id": "mL81TZFCotXS"
      }
    },
    {
      "cell_type": "markdown",
      "source": [
        "Question 1:\n",
        "\n",
        "What do 𝑚 and 𝑏 represent in these equations?"
      ],
      "metadata": {
        "id": "t2tcfjn3oK4b"
      }
    },
    {
      "cell_type": "markdown",
      "source": [
        "the slope and y intercept "
      ],
      "metadata": {
        "id": "eB4e4Cs8oUfH"
      }
    },
    {
      "cell_type": "markdown",
      "source": [
        "Question 2:\n",
        "\n",
        "Guess what the correct values 𝑚 and 𝑏 should be."
      ],
      "metadata": {
        "id": "9oXjSHUeoY1C"
      }
    },
    {
      "cell_type": "markdown",
      "source": [
        "Question 3:\n",
        "\n",
        "Does it make sense to include 𝑏 in the parameters?"
      ],
      "metadata": {
        "id": "naSAHjkrocyQ"
      }
    },
    {
      "cell_type": "markdown",
      "source": [
        "Yes so that we know where it ends on the y axis"
      ],
      "metadata": {
        "id": "zIrNNHD7oodf"
      }
    }
  ]
}